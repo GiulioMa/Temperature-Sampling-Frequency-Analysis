{
 "cells": [
  {
   "cell_type": "markdown",
   "metadata": {},
   "source": [
    "# Determining Minimum Sampling Frequency for Temperature Data in Rimini\n",
    "\n",
    "## Introduction\n",
    "Temperature data is often downsampled, sometimes capturing only daily maximum and minimum values. However, being able to capture all the high-frequency variations in temperature is fundamental for accurate climate monitoring and forecasting. Recently, an interview raised the question of whether observed temperature oscillations might be due to aliasing, a phenomenon where high-frequency signals are misrepresented as lower frequencies due to insufficient sampling rates.\n",
    "\n",
    "In this notebook, we will perform a detailed analysis on high-frequency temperature data from Rimini to determine the minimum sampling frequency required to accurately capture temperature variations without aliasing.\n",
    "\n",
    "The data is available here:\n",
    "- [August 10, 2017](https://www.wunderground.com/dashboard/pws/IRIMINIR5/table/2017-08-10/2017-08-10/daily)\n",
    "- [June 19, 2024](https://www.wunderground.com/dashboard/pws/IRIMINIR5/table/2024-06-19/2024-06-19/daily)\n",
    "\n",
    "## Theoretical Background\n",
    "### Nyquist-Shannon Theorem\n",
    "The Nyquist-Shannon sampling theorem states that a continuous signal can be completely represented in its samples and fully reconstructed if it has been sampled at a rate greater than twice its highest frequency component (the Nyquist rate). Mathematically,\n",
    "$$ f_s > 2 \\cdot f_{max} $$\n",
    "where $ f_s $ is the sampling frequency and $ f_{max} $ is the maximum frequency of the signal.\n",
    "\n",
    "### Aliasing\n",
    "Aliasing occurs when a signal is undersampled, causing the sampled signals to be distorted. This effect makes high-frequency components appearing as lower frequencies in the sampled data, leading to incorrect interpretations of the data. Proper sampling, as dictated by the Nyquist-Shannon theorem, prevents aliasing.\n"
   ]
  },
  {
   "cell_type": "code",
   "execution_count": 1,
   "metadata": {},
   "outputs": [],
   "source": [
    "import glob\n",
    "import numpy as np\n",
    "import pandas as pd\n",
    "import matplotlib.pyplot as plt\n",
    "from scipy.fft import fft, fftfreq\n"
   ]
  },
  {
   "cell_type": "code",
   "execution_count": 2,
   "metadata": {},
   "outputs": [],
   "source": [
    "# Load all Excel files in the Data folder\n",
    "file_paths = glob.glob('Data/*.xlsx')"
   ]
  },
  {
   "cell_type": "code",
   "execution_count": 3,
   "metadata": {},
   "outputs": [],
   "source": [
    "# Function to load and clean data from each file\n",
    "def load_and_clean_data(file_path):\n",
    "    data = pd.read_excel(file_path, header=0, skiprows=[1])\n",
    "    data['Time'] = pd.to_datetime(data['Time'], format='%H:%M:%S')\n",
    "    data['Temperature'] = data['Temperature'].str.replace(' °F', '').astype(float)\n",
    "    return data"
   ]
  },
  {
   "cell_type": "code",
   "execution_count": 4,
   "metadata": {},
   "outputs": [],
   "source": [
    "# Load and clean all data files\n",
    "data_frames = {file_path: load_and_clean_data(file_path) for file_path in file_paths}\n"
   ]
  },
  {
   "cell_type": "code",
   "execution_count": 5,
   "metadata": {},
   "outputs": [
    {
     "name": "stdout",
     "output_type": "stream",
     "text": [
      "Data from file: Data\\10_08_2017.xlsx\n"
     ]
    },
    {
     "data": {
      "text/html": [
       "<div>\n",
       "<style scoped>\n",
       "    .dataframe tbody tr th:only-of-type {\n",
       "        vertical-align: middle;\n",
       "    }\n",
       "\n",
       "    .dataframe tbody tr th {\n",
       "        vertical-align: top;\n",
       "    }\n",
       "\n",
       "    .dataframe thead th {\n",
       "        text-align: right;\n",
       "    }\n",
       "</style>\n",
       "<table border=\"1\" class=\"dataframe\">\n",
       "  <thead>\n",
       "    <tr style=\"text-align: right;\">\n",
       "      <th></th>\n",
       "      <th>Time</th>\n",
       "      <th>Temperature</th>\n",
       "      <th>Dew Point</th>\n",
       "      <th>Humidity</th>\n",
       "      <th>Wind</th>\n",
       "      <th>Speed</th>\n",
       "      <th>Gust</th>\n",
       "      <th>Pressure</th>\n",
       "      <th>Precip. Rate.</th>\n",
       "      <th>Precip. Accum.</th>\n",
       "      <th>UV</th>\n",
       "      <th>Solar</th>\n",
       "    </tr>\n",
       "  </thead>\n",
       "  <tbody>\n",
       "    <tr>\n",
       "      <th>0</th>\n",
       "      <td>1900-01-01 00:09:00</td>\n",
       "      <td>82.5</td>\n",
       "      <td>78.0 °F</td>\n",
       "      <td>85 %</td>\n",
       "      <td>NW</td>\n",
       "      <td>2.0 mph</td>\n",
       "      <td>5.0 mph</td>\n",
       "      <td>29.87 in</td>\n",
       "      <td>0.00 in</td>\n",
       "      <td>0.00 in</td>\n",
       "      <td>NaN</td>\n",
       "      <td>w/m²</td>\n",
       "    </tr>\n",
       "    <tr>\n",
       "      <th>1</th>\n",
       "      <td>1900-01-01 00:24:00</td>\n",
       "      <td>84.1</td>\n",
       "      <td>75.0 °F</td>\n",
       "      <td>75 %</td>\n",
       "      <td>West</td>\n",
       "      <td>0.0 mph</td>\n",
       "      <td>4.0 mph</td>\n",
       "      <td>29.86 in</td>\n",
       "      <td>0.00 in</td>\n",
       "      <td>0.00 in</td>\n",
       "      <td>NaN</td>\n",
       "      <td>w/m²</td>\n",
       "    </tr>\n",
       "    <tr>\n",
       "      <th>2</th>\n",
       "      <td>1900-01-01 00:40:00</td>\n",
       "      <td>84.4</td>\n",
       "      <td>74.0 °F</td>\n",
       "      <td>70 %</td>\n",
       "      <td>SSE</td>\n",
       "      <td>5.0 mph</td>\n",
       "      <td>6.0 mph</td>\n",
       "      <td>29.87 in</td>\n",
       "      <td>0.00 in</td>\n",
       "      <td>0.00 in</td>\n",
       "      <td>NaN</td>\n",
       "      <td>w/m²</td>\n",
       "    </tr>\n",
       "    <tr>\n",
       "      <th>3</th>\n",
       "      <td>1900-01-01 00:55:00</td>\n",
       "      <td>84.3</td>\n",
       "      <td>74.0 °F</td>\n",
       "      <td>70 %</td>\n",
       "      <td>SSE</td>\n",
       "      <td>0.0 mph</td>\n",
       "      <td>0.0 mph</td>\n",
       "      <td>29.87 in</td>\n",
       "      <td>0.00 in</td>\n",
       "      <td>0.00 in</td>\n",
       "      <td>NaN</td>\n",
       "      <td>w/m²</td>\n",
       "    </tr>\n",
       "    <tr>\n",
       "      <th>4</th>\n",
       "      <td>1900-01-01 01:10:00</td>\n",
       "      <td>83.8</td>\n",
       "      <td>74.0 °F</td>\n",
       "      <td>73 %</td>\n",
       "      <td>NaN</td>\n",
       "      <td>0.0 mph</td>\n",
       "      <td>4.0 mph</td>\n",
       "      <td>29.87 in</td>\n",
       "      <td>0.00 in</td>\n",
       "      <td>0.00 in</td>\n",
       "      <td>NaN</td>\n",
       "      <td>w/m²</td>\n",
       "    </tr>\n",
       "  </tbody>\n",
       "</table>\n",
       "</div>"
      ],
      "text/plain": [
       "                 Time  Temperature Dew Point Humidity  Wind    Speed     Gust  \\\n",
       "0 1900-01-01 00:09:00         82.5   78.0 °F     85 %    NW  2.0 mph  5.0 mph   \n",
       "1 1900-01-01 00:24:00         84.1   75.0 °F     75 %  West  0.0 mph  4.0 mph   \n",
       "2 1900-01-01 00:40:00         84.4   74.0 °F     70 %   SSE  5.0 mph  6.0 mph   \n",
       "3 1900-01-01 00:55:00         84.3   74.0 °F     70 %   SSE  0.0 mph  0.0 mph   \n",
       "4 1900-01-01 01:10:00         83.8   74.0 °F     73 %   NaN  0.0 mph  4.0 mph   \n",
       "\n",
       "   Pressure Precip. Rate. Precip. Accum.  UV Solar  \n",
       "0  29.87 in       0.00 in        0.00 in NaN  w/m²  \n",
       "1  29.86 in       0.00 in        0.00 in NaN  w/m²  \n",
       "2  29.87 in       0.00 in        0.00 in NaN  w/m²  \n",
       "3  29.87 in       0.00 in        0.00 in NaN  w/m²  \n",
       "4  29.87 in       0.00 in        0.00 in NaN  w/m²  "
      ]
     },
     "metadata": {},
     "output_type": "display_data"
    },
    {
     "name": "stdout",
     "output_type": "stream",
     "text": [
      "Data from file: Data\\19_06_2024.xlsx\n"
     ]
    },
    {
     "data": {
      "text/html": [
       "<div>\n",
       "<style scoped>\n",
       "    .dataframe tbody tr th:only-of-type {\n",
       "        vertical-align: middle;\n",
       "    }\n",
       "\n",
       "    .dataframe tbody tr th {\n",
       "        vertical-align: top;\n",
       "    }\n",
       "\n",
       "    .dataframe thead th {\n",
       "        text-align: right;\n",
       "    }\n",
       "</style>\n",
       "<table border=\"1\" class=\"dataframe\">\n",
       "  <thead>\n",
       "    <tr style=\"text-align: right;\">\n",
       "      <th></th>\n",
       "      <th>Time</th>\n",
       "      <th>Temperature</th>\n",
       "      <th>Dew Point</th>\n",
       "      <th>Humidity</th>\n",
       "      <th>Wind</th>\n",
       "      <th>Speed</th>\n",
       "      <th>Gust</th>\n",
       "      <th>Pressure</th>\n",
       "      <th>Precip. Rate.</th>\n",
       "      <th>Precip. Accum.</th>\n",
       "      <th>UV</th>\n",
       "      <th>Solar</th>\n",
       "    </tr>\n",
       "  </thead>\n",
       "  <tbody>\n",
       "    <tr>\n",
       "      <th>0</th>\n",
       "      <td>1900-01-01 00:04:00</td>\n",
       "      <td>75.6</td>\n",
       "      <td>70.5 °F</td>\n",
       "      <td>84 %</td>\n",
       "      <td>West</td>\n",
       "      <td>0.3 mph</td>\n",
       "      <td>0.9 mph</td>\n",
       "      <td>30.02 in</td>\n",
       "      <td>0.00 in</td>\n",
       "      <td>0.00 in</td>\n",
       "      <td>0</td>\n",
       "      <td>0 w/m²</td>\n",
       "    </tr>\n",
       "    <tr>\n",
       "      <th>1</th>\n",
       "      <td>1900-01-01 00:09:00</td>\n",
       "      <td>75.4</td>\n",
       "      <td>70.4 °F</td>\n",
       "      <td>84 %</td>\n",
       "      <td>West</td>\n",
       "      <td>0.0 mph</td>\n",
       "      <td>0.3 mph</td>\n",
       "      <td>30.02 in</td>\n",
       "      <td>0.00 in</td>\n",
       "      <td>0.00 in</td>\n",
       "      <td>0</td>\n",
       "      <td>0 w/m²</td>\n",
       "    </tr>\n",
       "    <tr>\n",
       "      <th>2</th>\n",
       "      <td>1900-01-01 00:14:00</td>\n",
       "      <td>75.4</td>\n",
       "      <td>70.3 °F</td>\n",
       "      <td>84 %</td>\n",
       "      <td>West</td>\n",
       "      <td>0.2 mph</td>\n",
       "      <td>0.6 mph</td>\n",
       "      <td>30.02 in</td>\n",
       "      <td>0.00 in</td>\n",
       "      <td>0.00 in</td>\n",
       "      <td>0</td>\n",
       "      <td>0 w/m²</td>\n",
       "    </tr>\n",
       "    <tr>\n",
       "      <th>3</th>\n",
       "      <td>1900-01-01 00:19:00</td>\n",
       "      <td>75.2</td>\n",
       "      <td>70.2 °F</td>\n",
       "      <td>84 %</td>\n",
       "      <td>West</td>\n",
       "      <td>0.2 mph</td>\n",
       "      <td>1.0 mph</td>\n",
       "      <td>30.03 in</td>\n",
       "      <td>0.00 in</td>\n",
       "      <td>0.00 in</td>\n",
       "      <td>0</td>\n",
       "      <td>0 w/m²</td>\n",
       "    </tr>\n",
       "    <tr>\n",
       "      <th>4</th>\n",
       "      <td>1900-01-01 00:24:00</td>\n",
       "      <td>75.2</td>\n",
       "      <td>70.2 °F</td>\n",
       "      <td>84 %</td>\n",
       "      <td>West</td>\n",
       "      <td>0.0 mph</td>\n",
       "      <td>0.6 mph</td>\n",
       "      <td>30.03 in</td>\n",
       "      <td>0.00 in</td>\n",
       "      <td>0.00 in</td>\n",
       "      <td>0</td>\n",
       "      <td>0 w/m²</td>\n",
       "    </tr>\n",
       "  </tbody>\n",
       "</table>\n",
       "</div>"
      ],
      "text/plain": [
       "                 Time  Temperature Dew Point Humidity  Wind    Speed     Gust  \\\n",
       "0 1900-01-01 00:04:00         75.6   70.5 °F     84 %  West  0.3 mph  0.9 mph   \n",
       "1 1900-01-01 00:09:00         75.4   70.4 °F     84 %  West  0.0 mph  0.3 mph   \n",
       "2 1900-01-01 00:14:00         75.4   70.3 °F     84 %  West  0.2 mph  0.6 mph   \n",
       "3 1900-01-01 00:19:00         75.2   70.2 °F     84 %  West  0.2 mph  1.0 mph   \n",
       "4 1900-01-01 00:24:00         75.2   70.2 °F     84 %  West  0.0 mph  0.6 mph   \n",
       "\n",
       "   Pressure Precip. Rate. Precip. Accum.  UV   Solar  \n",
       "0  30.02 in       0.00 in        0.00 in   0  0 w/m²  \n",
       "1  30.02 in       0.00 in        0.00 in   0  0 w/m²  \n",
       "2  30.02 in       0.00 in        0.00 in   0  0 w/m²  \n",
       "3  30.03 in       0.00 in        0.00 in   0  0 w/m²  \n",
       "4  30.03 in       0.00 in        0.00 in   0  0 w/m²  "
      ]
     },
     "metadata": {},
     "output_type": "display_data"
    }
   ],
   "source": [
    "# Display the data for each file\n",
    "for file_path, df in data_frames.items():\n",
    "    print(f\"Data from file: {file_path}\")\n",
    "    display(df.head())  # Display the first few rows of the data frame"
   ]
  },
  {
   "cell_type": "code",
   "execution_count": 6,
   "metadata": {},
   "outputs": [
    {
     "data": {
      "image/png": "[encoded data removed]",
      "text/plain": [
       "<Figure size 1008x432 with 1 Axes>"
      ]
     },
     "metadata": {},
     "output_type": "display_data"
    },
    {
     "data": {
      "image/png": "[encoded data removed]",
      "text/plain": [
       "<Figure size 1008x432 with 1 Axes>"
      ]
     },
     "metadata": {},
     "output_type": "display_data"
    }
   ],
   "source": [
    "# Plot the temperature data for each file\n",
    "for file_path, df in data_frames.items():\n",
    "    plt.figure(figsize=(14, 6))\n",
    "    plt.plot(df['Time'], df['Temperature'], marker='o')\n",
    "    plt.title(f'Temperature Data ({file_path})')\n",
    "    plt.xlabel('Time')\n",
    "    plt.ylabel('Temperature (°F)')\n",
    "    plt.xticks(rotation=45)\n",
    "    plt.grid(True)\n",
    "    plt.show()\n"
   ]
  },
  {
   "cell_type": "markdown",
   "metadata": {},
   "source": [
    "So far we have only plotted the data. Now, let's do a frequency analysis to reveal all the frequency components of the signal, and then let's find out where the majority of the information is.\n"
   ]
  },
  {
   "cell_type": "code",
   "execution_count": 7,
   "metadata": {},
   "outputs": [],
   "source": [
    "# Function to perform FFT and plot results\n",
    "def plot_fft(data, file_path):\n",
    "    temp = data['Temperature'].dropna().values\n",
    "    N = len(temp)\n",
    "    T = data['Time'].diff().dt.total_seconds().dropna().values[0]  # Sampling interval in seconds\n",
    "    \n",
    "    fft_result = fft(temp)\n",
    "    fft_magnitude = 2.0/N * np.abs(fft_result[:N//2])\n",
    "    freqs = fftfreq(N, T)[:N//2]\n",
    "    \n",
    "    plt.figure(figsize=(14, 6))\n",
    "    plt.plot(freqs, fft_magnitude)\n",
    "    \n",
    "    # Marking 95%, 97%, and 99% thresholds\n",
    "    thresholds = [0.95, 0.97, 0.99]\n",
    "    colors = ['r', 'g', 'b']\n",
    "    for threshold, color in zip(thresholds, colors):\n",
    "        cumulative_sum = np.cumsum(fft_magnitude)\n",
    "        total_sum = cumulative_sum[-1]\n",
    "        threshold_value = threshold * total_sum\n",
    "        index = np.where(cumulative_sum >= threshold_value)[0][0]\n",
    "        freq = freqs[index]\n",
    "        plt.plot(freq, fft_magnitude[index], marker='o', markersize=8, color=color)\n",
    "        plt.annotate(f'{int(threshold*100)}%', (freq, fft_magnitude[index]), textcoords=\"offset points\", xytext=(0,10), ha='center', color=color)\n",
    "    \n",
    "    plt.title(f'FFT of Temperature Data ({file_path})')\n",
    "    plt.xlabel('Frequency (Hz)')\n",
    "    plt.ylabel('Magnitude')\n",
    "    plt.grid(True)\n",
    "    plt.show()\n",
    "    \n",
    "    return freqs, fft_magnitude, thresholds"
   ]
  },
  {
   "cell_type": "code",
   "execution_count": 8,
   "metadata": {},
   "outputs": [
    {
     "data": {
      "image/png": "[encoded data removed]",
      "text/plain": [
       "<Figure size 1008x432 with 1 Axes>"
      ]
     },
     "metadata": {},
     "output_type": "display_data"
    },
    {
     "data": {
      "image/png": "[encoded data removed]",
      "text/plain": [
       "<Figure size 1008x432 with 1 Axes>"
      ]
     },
     "metadata": {},
     "output_type": "display_data"
    }
   ],
   "source": [
    "# Perform FFT and plot for each data file\n",
    "fft_results = {file_path: plot_fft(df, file_path) for file_path, df in data_frames.items()}\n"
   ]
  },
  {
   "cell_type": "code",
   "execution_count": 9,
   "metadata": {},
   "outputs": [],
   "source": [
    "# Determine 95%, 97%, and 99% Data Frequencies\n",
    "def find_percent_frequencies(freqs, fft_magnitude, thresholds):\n",
    "    percent_frequencies = {}\n",
    "    cumulative_sum = np.cumsum(fft_magnitude)\n",
    "    total_sum = cumulative_sum[-1]\n",
    "    for threshold in thresholds:\n",
    "        threshold_value = threshold * total_sum\n",
    "        index = np.where(cumulative_sum >= threshold_value)[0][0]\n",
    "        percent_frequencies[threshold] = freqs[index]\n",
    "    return percent_frequencies"
   ]
  },
  {
   "cell_type": "code",
   "execution_count": 10,
   "metadata": {},
   "outputs": [
    {
     "name": "stdout",
     "output_type": "stream",
     "text": [
      "Frequency capturing 95%, 97%, and 99% of data:\n"
     ]
    },
    {
     "data": {
      "text/html": [
       "<div>\n",
       "<style scoped>\n",
       "    .dataframe tbody tr th:only-of-type {\n",
       "        vertical-align: middle;\n",
       "    }\n",
       "\n",
       "    .dataframe tbody tr th {\n",
       "        vertical-align: top;\n",
       "    }\n",
       "\n",
       "    .dataframe thead th {\n",
       "        text-align: right;\n",
       "    }\n",
       "</style>\n",
       "<table border=\"1\" class=\"dataframe\">\n",
       "  <thead>\n",
       "    <tr style=\"text-align: right;\">\n",
       "      <th></th>\n",
       "      <th>File</th>\n",
       "      <th>95% Frequency (Hz)</th>\n",
       "      <th>97% Frequency (Hz)</th>\n",
       "      <th>99% Frequency (Hz)</th>\n",
       "    </tr>\n",
       "  </thead>\n",
       "  <tbody>\n",
       "    <tr>\n",
       "      <th>0</th>\n",
       "      <td>Data\\10_08_2017.xlsx</td>\n",
       "      <td>0.000105</td>\n",
       "      <td>0.000211</td>\n",
       "      <td>0.000398</td>\n",
       "    </tr>\n",
       "    <tr>\n",
       "      <th>1</th>\n",
       "      <td>Data\\19_06_2024.xlsx</td>\n",
       "      <td>0.000035</td>\n",
       "      <td>0.000127</td>\n",
       "      <td>0.000637</td>\n",
       "    </tr>\n",
       "  </tbody>\n",
       "</table>\n",
       "</div>"
      ],
      "text/plain": [
       "                   File  95% Frequency (Hz)  97% Frequency (Hz)  \\\n",
       "0  Data\\10_08_2017.xlsx            0.000105            0.000211   \n",
       "1  Data\\19_06_2024.xlsx            0.000035            0.000127   \n",
       "\n",
       "   99% Frequency (Hz)  \n",
       "0            0.000398  \n",
       "1            0.000637  "
      ]
     },
     "metadata": {},
     "output_type": "display_data"
    }
   ],
   "source": [
    "percent_freq_results = {file_path: find_percent_frequencies(freqs, fft_magnitude, [0.95, 0.97, 0.99]) for file_path, (freqs, fft_magnitude, thresholds) in fft_results.items()}\n",
    "\n",
    "# Display the results in a table\n",
    "percent_freq_table = pd.DataFrame(columns=['File', '95% Frequency (Hz)', '97% Frequency (Hz)', '99% Frequency (Hz)'])\n",
    "\n",
    "for file_path, percent_frequencies in percent_freq_results.items():\n",
    "    row = {\n",
    "        'File': file_path,\n",
    "        '95% Frequency (Hz)': percent_frequencies[0.95],\n",
    "        '97% Frequency (Hz)': percent_frequencies[0.97],\n",
    "        '99% Frequency (Hz)': percent_frequencies[0.99]\n",
    "    }\n",
    "    percent_freq_table = percent_freq_table.append(row, ignore_index=True)\n",
    "\n",
    "print(\"Frequency capturing 95%, 97%, and 99% of data:\")\n",
    "display(percent_freq_table)"
   ]
  },
  {
   "cell_type": "code",
   "execution_count": 11,
   "metadata": {},
   "outputs": [],
   "source": [
    "# Determine Minimum Sampling Frequency and Nyquist Rate\n",
    "def minimum_sampling_frequency(frequency):\n",
    "    return 2 * frequency  # Nyquist rate"
   ]
  },
  {
   "cell_type": "code",
   "execution_count": 12,
   "metadata": {},
   "outputs": [],
   "source": [
    "min_sampling_freq_results = {file_path: {threshold: minimum_sampling_frequency(freq) for threshold, freq in percent_frequencies.items()} for file_path, percent_frequencies in percent_freq_results.items()}\n",
    "\n",
    "# Convert the minimum sampling frequency to the number of measurements per minute\n",
    "measurements_per_minute = {file_path: {threshold: min_sampling_freq * 60 for threshold, min_sampling_freq in min_sampling_freqs.items()} for file_path, min_sampling_freqs in min_sampling_freq_results.items()}\n"
   ]
  },
  {
   "cell_type": "code",
   "execution_count": 14,
   "metadata": {},
   "outputs": [
    {
     "name": "stdout",
     "output_type": "stream",
     "text": [
      "\n",
      "Minimum sampling frequencies and measurements per hour:\n"
     ]
    },
    {
     "data": {
      "text/html": [
       "<div>\n",
       "<style scoped>\n",
       "    .dataframe tbody tr th:only-of-type {\n",
       "        vertical-align: middle;\n",
       "    }\n",
       "\n",
       "    .dataframe tbody tr th {\n",
       "        vertical-align: top;\n",
       "    }\n",
       "\n",
       "    .dataframe thead th {\n",
       "        text-align: right;\n",
       "    }\n",
       "</style>\n",
       "<table border=\"1\" class=\"dataframe\">\n",
       "  <thead>\n",
       "    <tr style=\"text-align: right;\">\n",
       "      <th></th>\n",
       "      <th>File</th>\n",
       "      <th>95% Sampling Rate (Hz)</th>\n",
       "      <th>95% Measurements/Hour</th>\n",
       "      <th>97% Sampling Rate (Hz)</th>\n",
       "      <th>97% Measurements/Hour</th>\n",
       "      <th>99% Sampling Rate (Hz)</th>\n",
       "      <th>99% Measurements/Hour</th>\n",
       "    </tr>\n",
       "  </thead>\n",
       "  <tbody>\n",
       "    <tr>\n",
       "      <th>0</th>\n",
       "      <td>Data\\10_08_2017.xlsx</td>\n",
       "      <td>0.000211</td>\n",
       "      <td>0.757895</td>\n",
       "      <td>0.000421</td>\n",
       "      <td>1.515789</td>\n",
       "      <td>0.000795</td>\n",
       "      <td>2.863158</td>\n",
       "    </tr>\n",
       "    <tr>\n",
       "      <th>1</th>\n",
       "      <td>Data\\19_06_2024.xlsx</td>\n",
       "      <td>0.000069</td>\n",
       "      <td>0.250000</td>\n",
       "      <td>0.000255</td>\n",
       "      <td>0.916667</td>\n",
       "      <td>0.001273</td>\n",
       "      <td>4.583333</td>\n",
       "    </tr>\n",
       "  </tbody>\n",
       "</table>\n",
       "</div>"
      ],
      "text/plain": [
       "                   File  95% Sampling Rate (Hz)  95% Measurements/Hour  \\\n",
       "0  Data\\10_08_2017.xlsx                0.000211               0.757895   \n",
       "1  Data\\19_06_2024.xlsx                0.000069               0.250000   \n",
       "\n",
       "   97% Sampling Rate (Hz)  97% Measurements/Hour  99% Sampling Rate (Hz)  \\\n",
       "0                0.000421               1.515789                0.000795   \n",
       "1                0.000255               0.916667                0.001273   \n",
       "\n",
       "   99% Measurements/Hour  \n",
       "0               2.863158  \n",
       "1               4.583333  "
      ]
     },
     "metadata": {},
     "output_type": "display_data"
    }
   ],
   "source": [
    "# Display the results in a table\n",
    "sampling_freq_table = pd.DataFrame(columns=['File', '95% Sampling Rate (Hz)', '95% Measurements/Hour', '97% Sampling Rate (Hz)', '97% Measurements/Hour', '99% Sampling Rate (Hz)', '99% Measurements/Hour'])\n",
    "\n",
    "for file_path, min_sampling_freqs in min_sampling_freq_results.items():\n",
    "    row = {\n",
    "        'File': file_path,\n",
    "        '95% Sampling Rate (Hz)': min_sampling_freqs[0.95],\n",
    "        '95% Measurements/Hour': measurements_per_minute[file_path][0.95] * 60,\n",
    "        '97% Sampling Rate (Hz)': min_sampling_freqs[0.97],\n",
    "        '97% Measurements/Hour': measurements_per_minute[file_path][0.97] * 60,\n",
    "        '99% Sampling Rate (Hz)': min_sampling_freqs[0.99],\n",
    "        '99% Measurements/Hour': measurements_per_minute[file_path][0.99] * 60\n",
    "    }\n",
    "    sampling_freq_table = sampling_freq_table.append(row, ignore_index=True)\n",
    "\n",
    "print(\"\\nMinimum sampling frequencies and measurements per hour:\")\n",
    "display(sampling_freq_table)\n"
   ]
  },
  {
   "cell_type": "markdown",
   "metadata": {},
   "source": [
    "## Conclusion\n",
    "The analysis reveals that the current sampling rates of 15 minutes (2017 data) and 5 minutes (2024 data) are more than sufficient to capture the significant temperature variations in Rimini. The minimum sampling frequencies required to avoid aliasing are much lower than the current sampling rates, ensuring accurate representation of temperature data without aliasing effects.\n"
   ]
  }
 ],
 "metadata": {
  "kernelspec": {
   "display_name": "Python 3",
   "language": "python",
   "name": "python3"
  },
  "language_info": {
   "codemirror_mode": {
    "name": "ipython",
    "version": 3
   },
   "file_extension": ".py",
   "mimetype": "text/x-python",
   "name": "python",
   "nbconvert_exporter": "python",
   "pygments_lexer": "ipython3",
   "version": "3.6.5"
  }
 },
 "nbformat": 4,
 "nbformat_minor": 2
}
